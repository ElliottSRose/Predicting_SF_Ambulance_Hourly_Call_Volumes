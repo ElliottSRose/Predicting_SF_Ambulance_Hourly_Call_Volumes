{
 "cells": [
  {
   "cell_type": "code",
   "execution_count": 8,
   "metadata": {},
   "outputs": [],
   "source": [
    "import pandas as pd\n",
    "import numpy as np\n",
    "import matplotlib.pyplot as plt\n",
    "import tabula\n",
    "from sklearn.linear_model import LinearRegression\n",
    "%matplotlib inline \n",
    "\n",
    "pd.set_option('display.max_columns', 500)"
   ]
  },
  {
   "cell_type": "code",
   "execution_count": 48,
   "metadata": {
    "scrolled": true
   },
   "outputs": [
    {
     "name": "stderr",
     "output_type": "stream",
     "text": [
      "/Users/elliott/anaconda3/lib/python3.7/site-packages/IPython/core/interactiveshell.py:3049: DtypeWarning: Columns (17,18) have mixed types. Specify dtype option on import or set low_memory=False.\n",
      "  interactivity=interactivity, compiler=compiler, result=result)\n"
     ]
    },
    {
     "data": {
      "text/html": [
       "<div>\n",
       "<style scoped>\n",
       "    .dataframe tbody tr th:only-of-type {\n",
       "        vertical-align: middle;\n",
       "    }\n",
       "\n",
       "    .dataframe tbody tr th {\n",
       "        vertical-align: top;\n",
       "    }\n",
       "\n",
       "    .dataframe thead th {\n",
       "        text-align: right;\n",
       "    }\n",
       "</style>\n",
       "<table border=\"1\" class=\"dataframe\">\n",
       "  <thead>\n",
       "    <tr style=\"text-align: right;\">\n",
       "      <th></th>\n",
       "      <th>Unnamed: 0</th>\n",
       "      <th>unit_id</th>\n",
       "      <th>incident_number</th>\n",
       "      <th>call_type</th>\n",
       "      <th>call_date</th>\n",
       "      <th>received_dttm</th>\n",
       "      <th>entry_dttm</th>\n",
       "      <th>dispatch_dttm</th>\n",
       "      <th>response_dttm</th>\n",
       "      <th>on_scene_dttm</th>\n",
       "      <th>transport_dttm</th>\n",
       "      <th>hospital_dttm</th>\n",
       "      <th>call_final_disposition</th>\n",
       "      <th>available_dttm</th>\n",
       "      <th>address</th>\n",
       "      <th>city</th>\n",
       "      <th>zipcode_of_incident</th>\n",
       "      <th>station_area</th>\n",
       "      <th>box</th>\n",
       "      <th>original_priority</th>\n",
       "      <th>priority</th>\n",
       "      <th>final_priority</th>\n",
       "      <th>als_unit</th>\n",
       "      <th>call_type_group</th>\n",
       "      <th>unit_type</th>\n",
       "      <th>neighborhooods_-_analysis_boundaries</th>\n",
       "    </tr>\n",
       "  </thead>\n",
       "  <tbody>\n",
       "    <tr>\n",
       "      <th>0</th>\n",
       "      <td>1</td>\n",
       "      <td>KM07</td>\n",
       "      <td>19118384.0</td>\n",
       "      <td>Medical Incident</td>\n",
       "      <td>10/02/2019</td>\n",
       "      <td>10/02/2019 11:51:00 PM</td>\n",
       "      <td>10/02/2019 11:52:30 PM</td>\n",
       "      <td>10/02/2019 11:52:43 PM</td>\n",
       "      <td>10/02/2019 11:53:18 PM</td>\n",
       "      <td>10/02/2019 11:57:59 PM</td>\n",
       "      <td>10/03/2019 12:41:08 AM</td>\n",
       "      <td>10/03/2019 01:05:39 AM</td>\n",
       "      <td>Code 2 Transport</td>\n",
       "      <td>10/03/2019 01:42:18 AM</td>\n",
       "      <td>1300 Block of LAKE ST</td>\n",
       "      <td>San Francisco</td>\n",
       "      <td>94118.0</td>\n",
       "      <td>31</td>\n",
       "      <td>7152</td>\n",
       "      <td>2</td>\n",
       "      <td>2</td>\n",
       "      <td>2.0</td>\n",
       "      <td>False</td>\n",
       "      <td>Non Life-threatening</td>\n",
       "      <td>PRIVATE</td>\n",
       "      <td>Seacliff</td>\n",
       "    </tr>\n",
       "    <tr>\n",
       "      <th>1</th>\n",
       "      <td>4</td>\n",
       "      <td>83</td>\n",
       "      <td>19118381.0</td>\n",
       "      <td>Medical Incident</td>\n",
       "      <td>10/02/2019</td>\n",
       "      <td>10/02/2019 11:33:58 PM</td>\n",
       "      <td>10/02/2019 11:36:27 PM</td>\n",
       "      <td>10/02/2019 11:36:46 PM</td>\n",
       "      <td>10/02/2019 11:37:06 PM</td>\n",
       "      <td>10/02/2019 11:45:55 PM</td>\n",
       "      <td>NaN</td>\n",
       "      <td>NaN</td>\n",
       "      <td>Unable to Locate</td>\n",
       "      <td>10/02/2019 11:57:27 PM</td>\n",
       "      <td>TURK ST/HYDE ST</td>\n",
       "      <td>San Francisco</td>\n",
       "      <td>94102.0</td>\n",
       "      <td>3</td>\n",
       "      <td>1554</td>\n",
       "      <td>2</td>\n",
       "      <td>2</td>\n",
       "      <td>2.0</td>\n",
       "      <td>True</td>\n",
       "      <td>Non Life-threatening</td>\n",
       "      <td>MEDIC</td>\n",
       "      <td>Tenderloin</td>\n",
       "    </tr>\n",
       "    <tr>\n",
       "      <th>2</th>\n",
       "      <td>9</td>\n",
       "      <td>94</td>\n",
       "      <td>19118376.0</td>\n",
       "      <td>Medical Incident</td>\n",
       "      <td>10/02/2019</td>\n",
       "      <td>10/02/2019 11:24:10 PM</td>\n",
       "      <td>10/02/2019 11:25:39 PM</td>\n",
       "      <td>10/02/2019 11:25:54 PM</td>\n",
       "      <td>10/02/2019 11:26:02 PM</td>\n",
       "      <td>10/02/2019 11:34:00 PM</td>\n",
       "      <td>NaN</td>\n",
       "      <td>NaN</td>\n",
       "      <td>Patient Declined Transport</td>\n",
       "      <td>10/02/2019 11:59:46 PM</td>\n",
       "      <td>0 Block of CLIPPER ST</td>\n",
       "      <td>San Francisco</td>\n",
       "      <td>94114.0</td>\n",
       "      <td>11</td>\n",
       "      <td>5536</td>\n",
       "      <td>2</td>\n",
       "      <td>2</td>\n",
       "      <td>2.0</td>\n",
       "      <td>True</td>\n",
       "      <td>Non Life-threatening</td>\n",
       "      <td>MEDIC</td>\n",
       "      <td>Noe Valley</td>\n",
       "    </tr>\n",
       "    <tr>\n",
       "      <th>3</th>\n",
       "      <td>13</td>\n",
       "      <td>82</td>\n",
       "      <td>19118377.0</td>\n",
       "      <td>Medical Incident</td>\n",
       "      <td>10/02/2019</td>\n",
       "      <td>10/02/2019 11:22:51 PM</td>\n",
       "      <td>10/02/2019 11:26:54 PM</td>\n",
       "      <td>10/02/2019 11:27:06 PM</td>\n",
       "      <td>10/02/2019 11:27:13 PM</td>\n",
       "      <td>10/02/2019 11:34:51 PM</td>\n",
       "      <td>10/03/2019 12:06:50 AM</td>\n",
       "      <td>10/03/2019 12:13:54 AM</td>\n",
       "      <td>Code 2 Transport</td>\n",
       "      <td>10/03/2019 12:46:37 AM</td>\n",
       "      <td>1700 Block of 15TH AVE</td>\n",
       "      <td>San Francisco</td>\n",
       "      <td>94122.0</td>\n",
       "      <td>22</td>\n",
       "      <td>7364</td>\n",
       "      <td>2</td>\n",
       "      <td>2</td>\n",
       "      <td>2.0</td>\n",
       "      <td>True</td>\n",
       "      <td>Non Life-threatening</td>\n",
       "      <td>MEDIC</td>\n",
       "      <td>Inner Sunset</td>\n",
       "    </tr>\n",
       "    <tr>\n",
       "      <th>4</th>\n",
       "      <td>14</td>\n",
       "      <td>62</td>\n",
       "      <td>19118375.0</td>\n",
       "      <td>Medical Incident</td>\n",
       "      <td>10/02/2019</td>\n",
       "      <td>10/02/2019 11:22:50 PM</td>\n",
       "      <td>10/02/2019 11:24:25 PM</td>\n",
       "      <td>10/02/2019 11:24:53 PM</td>\n",
       "      <td>10/02/2019 11:25:59 PM</td>\n",
       "      <td>10/02/2019 11:34:18 PM</td>\n",
       "      <td>10/02/2019 11:59:53 PM</td>\n",
       "      <td>10/03/2019 12:16:18 AM</td>\n",
       "      <td>Code 3 Transport</td>\n",
       "      <td>10/03/2019 12:50:58 AM</td>\n",
       "      <td>6600 Block of 3RD ST</td>\n",
       "      <td>San Francisco</td>\n",
       "      <td>94124.0</td>\n",
       "      <td>17</td>\n",
       "      <td>6575</td>\n",
       "      <td>2</td>\n",
       "      <td>2</td>\n",
       "      <td>2.0</td>\n",
       "      <td>True</td>\n",
       "      <td>Potentially Life-Threatening</td>\n",
       "      <td>MEDIC</td>\n",
       "      <td>Bayview Hunters Point</td>\n",
       "    </tr>\n",
       "  </tbody>\n",
       "</table>\n",
       "</div>"
      ],
      "text/plain": [
       "   Unnamed: 0 unit_id  incident_number         call_type   call_date  \\\n",
       "0           1    KM07       19118384.0  Medical Incident  10/02/2019   \n",
       "1           4      83       19118381.0  Medical Incident  10/02/2019   \n",
       "2           9      94       19118376.0  Medical Incident  10/02/2019   \n",
       "3          13      82       19118377.0  Medical Incident  10/02/2019   \n",
       "4          14      62       19118375.0  Medical Incident  10/02/2019   \n",
       "\n",
       "            received_dttm              entry_dttm           dispatch_dttm  \\\n",
       "0  10/02/2019 11:51:00 PM  10/02/2019 11:52:30 PM  10/02/2019 11:52:43 PM   \n",
       "1  10/02/2019 11:33:58 PM  10/02/2019 11:36:27 PM  10/02/2019 11:36:46 PM   \n",
       "2  10/02/2019 11:24:10 PM  10/02/2019 11:25:39 PM  10/02/2019 11:25:54 PM   \n",
       "3  10/02/2019 11:22:51 PM  10/02/2019 11:26:54 PM  10/02/2019 11:27:06 PM   \n",
       "4  10/02/2019 11:22:50 PM  10/02/2019 11:24:25 PM  10/02/2019 11:24:53 PM   \n",
       "\n",
       "            response_dttm           on_scene_dttm          transport_dttm  \\\n",
       "0  10/02/2019 11:53:18 PM  10/02/2019 11:57:59 PM  10/03/2019 12:41:08 AM   \n",
       "1  10/02/2019 11:37:06 PM  10/02/2019 11:45:55 PM                     NaN   \n",
       "2  10/02/2019 11:26:02 PM  10/02/2019 11:34:00 PM                     NaN   \n",
       "3  10/02/2019 11:27:13 PM  10/02/2019 11:34:51 PM  10/03/2019 12:06:50 AM   \n",
       "4  10/02/2019 11:25:59 PM  10/02/2019 11:34:18 PM  10/02/2019 11:59:53 PM   \n",
       "\n",
       "            hospital_dttm      call_final_disposition          available_dttm  \\\n",
       "0  10/03/2019 01:05:39 AM            Code 2 Transport  10/03/2019 01:42:18 AM   \n",
       "1                     NaN            Unable to Locate  10/02/2019 11:57:27 PM   \n",
       "2                     NaN  Patient Declined Transport  10/02/2019 11:59:46 PM   \n",
       "3  10/03/2019 12:13:54 AM            Code 2 Transport  10/03/2019 12:46:37 AM   \n",
       "4  10/03/2019 12:16:18 AM            Code 3 Transport  10/03/2019 12:50:58 AM   \n",
       "\n",
       "                  address           city  zipcode_of_incident station_area  \\\n",
       "0   1300 Block of LAKE ST  San Francisco              94118.0           31   \n",
       "1         TURK ST/HYDE ST  San Francisco              94102.0            3   \n",
       "2   0 Block of CLIPPER ST  San Francisco              94114.0           11   \n",
       "3  1700 Block of 15TH AVE  San Francisco              94122.0           22   \n",
       "4    6600 Block of 3RD ST  San Francisco              94124.0           17   \n",
       "\n",
       "    box original_priority priority  final_priority  als_unit  \\\n",
       "0  7152                 2        2             2.0     False   \n",
       "1  1554                 2        2             2.0      True   \n",
       "2  5536                 2        2             2.0      True   \n",
       "3  7364                 2        2             2.0      True   \n",
       "4  6575                 2        2             2.0      True   \n",
       "\n",
       "                call_type_group unit_type neighborhooods_-_analysis_boundaries  \n",
       "0          Non Life-threatening   PRIVATE                             Seacliff  \n",
       "1          Non Life-threatening     MEDIC                           Tenderloin  \n",
       "2          Non Life-threatening     MEDIC                           Noe Valley  \n",
       "3          Non Life-threatening     MEDIC                         Inner Sunset  \n",
       "4  Potentially Life-Threatening     MEDIC                Bayview Hunters Point  "
      ]
     },
     "execution_count": 48,
     "metadata": {},
     "output_type": "execute_result"
    }
   ],
   "source": [
    "path = \"../DF/CSV_Files/medic_calls.csv\"\n",
    "df = pd.read_csv(path)\n",
    "df.head()"
   ]
  },
  {
   "cell_type": "code",
   "execution_count": 11,
   "metadata": {},
   "outputs": [],
   "source": [
    "df['dispatch_dttm'] = pd.to_datetime(df['dispatch_dttm'])"
   ]
  },
  {
   "cell_type": "code",
   "execution_count": 12,
   "metadata": {},
   "outputs": [],
   "source": [
    "df.index = df['dispatch_dttm']\n",
    "df.reset_index\n",
    "df.index.name = 'Date'"
   ]
  },
  {
   "cell_type": "code",
   "execution_count": 14,
   "metadata": {},
   "outputs": [
    {
     "data": {
      "text/html": [
       "<div>\n",
       "<style scoped>\n",
       "    .dataframe tbody tr th:only-of-type {\n",
       "        vertical-align: middle;\n",
       "    }\n",
       "\n",
       "    .dataframe tbody tr th {\n",
       "        vertical-align: top;\n",
       "    }\n",
       "\n",
       "    .dataframe thead th {\n",
       "        text-align: right;\n",
       "    }\n",
       "</style>\n",
       "<table border=\"1\" class=\"dataframe\">\n",
       "  <thead>\n",
       "    <tr style=\"text-align: right;\">\n",
       "      <th></th>\n",
       "      <th>call_type</th>\n",
       "    </tr>\n",
       "    <tr>\n",
       "      <th>Date</th>\n",
       "      <th></th>\n",
       "    </tr>\n",
       "  </thead>\n",
       "  <tbody>\n",
       "    <tr>\n",
       "      <th>2019-10-02 23:52:43</th>\n",
       "      <td>Medical Incident</td>\n",
       "    </tr>\n",
       "    <tr>\n",
       "      <th>2019-10-02 23:36:46</th>\n",
       "      <td>Medical Incident</td>\n",
       "    </tr>\n",
       "    <tr>\n",
       "      <th>2019-10-02 23:25:54</th>\n",
       "      <td>Medical Incident</td>\n",
       "    </tr>\n",
       "    <tr>\n",
       "      <th>2019-10-02 23:27:06</th>\n",
       "      <td>Medical Incident</td>\n",
       "    </tr>\n",
       "    <tr>\n",
       "      <th>2019-10-02 23:24:53</th>\n",
       "      <td>Medical Incident</td>\n",
       "    </tr>\n",
       "  </tbody>\n",
       "</table>\n",
       "</div>"
      ],
      "text/plain": [
       "                            call_type\n",
       "Date                                 \n",
       "2019-10-02 23:52:43  Medical Incident\n",
       "2019-10-02 23:36:46  Medical Incident\n",
       "2019-10-02 23:25:54  Medical Incident\n",
       "2019-10-02 23:27:06  Medical Incident\n",
       "2019-10-02 23:24:53  Medical Incident"
      ]
     },
     "execution_count": 14,
     "metadata": {},
     "output_type": "execute_result"
    }
   ],
   "source": [
    "df = df[['call_type']]\n",
    "df.head()"
   ]
  },
  {
   "cell_type": "code",
   "execution_count": 15,
   "metadata": {},
   "outputs": [
    {
     "data": {
      "text/html": [
       "<div>\n",
       "<style scoped>\n",
       "    .dataframe tbody tr th:only-of-type {\n",
       "        vertical-align: middle;\n",
       "    }\n",
       "\n",
       "    .dataframe tbody tr th {\n",
       "        vertical-align: top;\n",
       "    }\n",
       "\n",
       "    .dataframe thead th {\n",
       "        text-align: right;\n",
       "    }\n",
       "</style>\n",
       "<table border=\"1\" class=\"dataframe\">\n",
       "  <thead>\n",
       "    <tr style=\"text-align: right;\">\n",
       "      <th></th>\n",
       "      <th>call_type</th>\n",
       "    </tr>\n",
       "    <tr>\n",
       "      <th>Date</th>\n",
       "      <th></th>\n",
       "    </tr>\n",
       "  </thead>\n",
       "  <tbody>\n",
       "    <tr>\n",
       "      <th>2015-08-17 01:00:00</th>\n",
       "      <td>7</td>\n",
       "    </tr>\n",
       "    <tr>\n",
       "      <th>2015-08-17 02:00:00</th>\n",
       "      <td>5</td>\n",
       "    </tr>\n",
       "    <tr>\n",
       "      <th>2015-08-17 03:00:00</th>\n",
       "      <td>8</td>\n",
       "    </tr>\n",
       "    <tr>\n",
       "      <th>2015-08-17 04:00:00</th>\n",
       "      <td>5</td>\n",
       "    </tr>\n",
       "    <tr>\n",
       "      <th>2015-08-17 05:00:00</th>\n",
       "      <td>2</td>\n",
       "    </tr>\n",
       "  </tbody>\n",
       "</table>\n",
       "</div>"
      ],
      "text/plain": [
       "                     call_type\n",
       "Date                          \n",
       "2015-08-17 01:00:00          7\n",
       "2015-08-17 02:00:00          5\n",
       "2015-08-17 03:00:00          8\n",
       "2015-08-17 04:00:00          5\n",
       "2015-08-17 05:00:00          2"
      ]
     },
     "execution_count": 15,
     "metadata": {},
     "output_type": "execute_result"
    }
   ],
   "source": [
    "newdf = df.resample('H').count()\n",
    "newdf.head()"
   ]
  },
  {
   "cell_type": "code",
   "execution_count": 16,
   "metadata": {},
   "outputs": [
    {
     "data": {
      "text/html": [
       "<div>\n",
       "<style scoped>\n",
       "    .dataframe tbody tr th:only-of-type {\n",
       "        vertical-align: middle;\n",
       "    }\n",
       "\n",
       "    .dataframe tbody tr th {\n",
       "        vertical-align: top;\n",
       "    }\n",
       "\n",
       "    .dataframe thead th {\n",
       "        text-align: right;\n",
       "    }\n",
       "</style>\n",
       "<table border=\"1\" class=\"dataframe\">\n",
       "  <thead>\n",
       "    <tr style=\"text-align: right;\">\n",
       "      <th></th>\n",
       "      <th>call_type</th>\n",
       "    </tr>\n",
       "    <tr>\n",
       "      <th>Date</th>\n",
       "      <th></th>\n",
       "    </tr>\n",
       "  </thead>\n",
       "  <tbody>\n",
       "    <tr>\n",
       "      <th>2016-09-01 00:00:00</th>\n",
       "      <td>16</td>\n",
       "    </tr>\n",
       "    <tr>\n",
       "      <th>2016-09-01 01:00:00</th>\n",
       "      <td>6</td>\n",
       "    </tr>\n",
       "    <tr>\n",
       "      <th>2016-09-01 02:00:00</th>\n",
       "      <td>10</td>\n",
       "    </tr>\n",
       "    <tr>\n",
       "      <th>2016-09-01 03:00:00</th>\n",
       "      <td>9</td>\n",
       "    </tr>\n",
       "    <tr>\n",
       "      <th>2016-09-01 04:00:00</th>\n",
       "      <td>6</td>\n",
       "    </tr>\n",
       "  </tbody>\n",
       "</table>\n",
       "</div>"
      ],
      "text/plain": [
       "                     call_type\n",
       "Date                          \n",
       "2016-09-01 00:00:00         16\n",
       "2016-09-01 01:00:00          6\n",
       "2016-09-01 02:00:00         10\n",
       "2016-09-01 03:00:00          9\n",
       "2016-09-01 04:00:00          6"
      ]
     },
     "execution_count": 16,
     "metadata": {},
     "output_type": "execute_result"
    }
   ],
   "source": [
    "forPlot = newdf\n",
    "forPlot = forPlot.loc['2016-09-01':'2019-09-01']\n",
    "forPlot.head()"
   ]
  },
  {
   "cell_type": "code",
   "execution_count": 17,
   "metadata": {
    "scrolled": true
   },
   "outputs": [
    {
     "data": {
      "text/html": [
       "<div>\n",
       "<style scoped>\n",
       "    .dataframe tbody tr th:only-of-type {\n",
       "        vertical-align: middle;\n",
       "    }\n",
       "\n",
       "    .dataframe tbody tr th {\n",
       "        vertical-align: top;\n",
       "    }\n",
       "\n",
       "    .dataframe thead th {\n",
       "        text-align: right;\n",
       "    }\n",
       "</style>\n",
       "<table border=\"1\" class=\"dataframe\">\n",
       "  <thead>\n",
       "    <tr style=\"text-align: right;\">\n",
       "      <th></th>\n",
       "      <th>call_type</th>\n",
       "    </tr>\n",
       "    <tr>\n",
       "      <th>Date</th>\n",
       "      <th></th>\n",
       "    </tr>\n",
       "  </thead>\n",
       "  <tbody>\n",
       "    <tr>\n",
       "      <th>2019-09-01 19:00:00</th>\n",
       "      <td>25</td>\n",
       "    </tr>\n",
       "    <tr>\n",
       "      <th>2019-09-01 20:00:00</th>\n",
       "      <td>12</td>\n",
       "    </tr>\n",
       "    <tr>\n",
       "      <th>2019-09-01 21:00:00</th>\n",
       "      <td>12</td>\n",
       "    </tr>\n",
       "    <tr>\n",
       "      <th>2019-09-01 22:00:00</th>\n",
       "      <td>14</td>\n",
       "    </tr>\n",
       "    <tr>\n",
       "      <th>2019-09-01 23:00:00</th>\n",
       "      <td>20</td>\n",
       "    </tr>\n",
       "  </tbody>\n",
       "</table>\n",
       "</div>"
      ],
      "text/plain": [
       "                     call_type\n",
       "Date                          \n",
       "2019-09-01 19:00:00         25\n",
       "2019-09-01 20:00:00         12\n",
       "2019-09-01 21:00:00         12\n",
       "2019-09-01 22:00:00         14\n",
       "2019-09-01 23:00:00         20"
      ]
     },
     "execution_count": 17,
     "metadata": {},
     "output_type": "execute_result"
    }
   ],
   "source": [
    "forPlot.tail()"
   ]
  },
  {
   "cell_type": "markdown",
   "metadata": {},
   "source": [
    "10/7/19 1500 - Now we need to import the new weather data "
   ]
  },
  {
   "cell_type": "code",
   "execution_count": 18,
   "metadata": {},
   "outputs": [],
   "source": [
    "weather = pd.read_csv('/Users/elliott/Documents/Personal_Projects/SF_EMS_Call_Vol/DF/CSV_Files/calls_weather_week.csv')"
   ]
  },
  {
   "cell_type": "code",
   "execution_count": 19,
   "metadata": {},
   "outputs": [
    {
     "data": {
      "text/plain": [
       "(26304, 1)"
      ]
     },
     "execution_count": 19,
     "metadata": {},
     "output_type": "execute_result"
    }
   ],
   "source": [
    "forPlot.shape"
   ]
  },
  {
   "cell_type": "code",
   "execution_count": 20,
   "metadata": {},
   "outputs": [
    {
     "data": {
      "text/html": [
       "<div>\n",
       "<style scoped>\n",
       "    .dataframe tbody tr th:only-of-type {\n",
       "        vertical-align: middle;\n",
       "    }\n",
       "\n",
       "    .dataframe tbody tr th {\n",
       "        vertical-align: top;\n",
       "    }\n",
       "\n",
       "    .dataframe thead th {\n",
       "        text-align: right;\n",
       "    }\n",
       "</style>\n",
       "<table border=\"1\" class=\"dataframe\">\n",
       "  <thead>\n",
       "    <tr style=\"text-align: right;\">\n",
       "      <th></th>\n",
       "      <th>Unnamed: 0</th>\n",
       "      <th>Date</th>\n",
       "      <th>Maximum</th>\n",
       "      <th>Minimum</th>\n",
       "      <th>Average</th>\n",
       "      <th>Precipitation</th>\n",
       "      <th>Weekday</th>\n",
       "      <th>weekday_num</th>\n",
       "      <th>Dispatched_calls</th>\n",
       "      <th>Holidays</th>\n",
       "      <th>Hol_weekend</th>\n",
       "    </tr>\n",
       "  </thead>\n",
       "  <tbody>\n",
       "    <tr>\n",
       "      <th>0</th>\n",
       "      <td>0</td>\n",
       "      <td>2016-09-01</td>\n",
       "      <td>68</td>\n",
       "      <td>58</td>\n",
       "      <td>63.0</td>\n",
       "      <td>0.0</td>\n",
       "      <td>Thursday</td>\n",
       "      <td>3</td>\n",
       "      <td>347</td>\n",
       "      <td>0</td>\n",
       "      <td>0</td>\n",
       "    </tr>\n",
       "    <tr>\n",
       "      <th>1</th>\n",
       "      <td>1</td>\n",
       "      <td>2016-09-02</td>\n",
       "      <td>71</td>\n",
       "      <td>55</td>\n",
       "      <td>63.0</td>\n",
       "      <td>0.0</td>\n",
       "      <td>Friday</td>\n",
       "      <td>4</td>\n",
       "      <td>401</td>\n",
       "      <td>0</td>\n",
       "      <td>1</td>\n",
       "    </tr>\n",
       "    <tr>\n",
       "      <th>2</th>\n",
       "      <td>2</td>\n",
       "      <td>2016-09-03</td>\n",
       "      <td>66</td>\n",
       "      <td>57</td>\n",
       "      <td>61.5</td>\n",
       "      <td>0.0</td>\n",
       "      <td>Saturday</td>\n",
       "      <td>5</td>\n",
       "      <td>341</td>\n",
       "      <td>0</td>\n",
       "      <td>1</td>\n",
       "    </tr>\n",
       "    <tr>\n",
       "      <th>3</th>\n",
       "      <td>3</td>\n",
       "      <td>2016-09-04</td>\n",
       "      <td>67</td>\n",
       "      <td>56</td>\n",
       "      <td>61.5</td>\n",
       "      <td>0.0</td>\n",
       "      <td>Sunday</td>\n",
       "      <td>6</td>\n",
       "      <td>317</td>\n",
       "      <td>0</td>\n",
       "      <td>1</td>\n",
       "    </tr>\n",
       "    <tr>\n",
       "      <th>4</th>\n",
       "      <td>4</td>\n",
       "      <td>2016-09-05</td>\n",
       "      <td>72</td>\n",
       "      <td>53</td>\n",
       "      <td>62.5</td>\n",
       "      <td>0.0</td>\n",
       "      <td>Monday</td>\n",
       "      <td>0</td>\n",
       "      <td>328</td>\n",
       "      <td>1</td>\n",
       "      <td>1</td>\n",
       "    </tr>\n",
       "  </tbody>\n",
       "</table>\n",
       "</div>"
      ],
      "text/plain": [
       "   Unnamed: 0        Date  Maximum  Minimum  Average  Precipitation   Weekday  \\\n",
       "0           0  2016-09-01       68       58     63.0            0.0  Thursday   \n",
       "1           1  2016-09-02       71       55     63.0            0.0    Friday   \n",
       "2           2  2016-09-03       66       57     61.5            0.0  Saturday   \n",
       "3           3  2016-09-04       67       56     61.5            0.0    Sunday   \n",
       "4           4  2016-09-05       72       53     62.5            0.0    Monday   \n",
       "\n",
       "   weekday_num  Dispatched_calls  Holidays  Hol_weekend  \n",
       "0            3               347         0            0  \n",
       "1            4               401         0            1  \n",
       "2            5               341         0            1  \n",
       "3            6               317         0            1  \n",
       "4            0               328         1            1  "
      ]
     },
     "execution_count": 20,
     "metadata": {},
     "output_type": "execute_result"
    }
   ],
   "source": [
    "weather.head()"
   ]
  },
  {
   "cell_type": "code",
   "execution_count": 21,
   "metadata": {},
   "outputs": [
    {
     "data": {
      "text/html": [
       "<div>\n",
       "<style scoped>\n",
       "    .dataframe tbody tr th:only-of-type {\n",
       "        vertical-align: middle;\n",
       "    }\n",
       "\n",
       "    .dataframe tbody tr th {\n",
       "        vertical-align: top;\n",
       "    }\n",
       "\n",
       "    .dataframe thead th {\n",
       "        text-align: right;\n",
       "    }\n",
       "</style>\n",
       "<table border=\"1\" class=\"dataframe\">\n",
       "  <thead>\n",
       "    <tr style=\"text-align: right;\">\n",
       "      <th></th>\n",
       "      <th>Maximum</th>\n",
       "      <th>Minimum</th>\n",
       "      <th>Average</th>\n",
       "      <th>Precipitation</th>\n",
       "      <th>Weekday</th>\n",
       "      <th>weekday_num</th>\n",
       "      <th>Dispatched_calls</th>\n",
       "      <th>Holidays</th>\n",
       "      <th>Hol_weekend</th>\n",
       "    </tr>\n",
       "    <tr>\n",
       "      <th>Date</th>\n",
       "      <th></th>\n",
       "      <th></th>\n",
       "      <th></th>\n",
       "      <th></th>\n",
       "      <th></th>\n",
       "      <th></th>\n",
       "      <th></th>\n",
       "      <th></th>\n",
       "      <th></th>\n",
       "    </tr>\n",
       "  </thead>\n",
       "  <tbody>\n",
       "    <tr>\n",
       "      <th>2016-09-01</th>\n",
       "      <td>68</td>\n",
       "      <td>58</td>\n",
       "      <td>63.0</td>\n",
       "      <td>0.0</td>\n",
       "      <td>Thursday</td>\n",
       "      <td>3</td>\n",
       "      <td>347</td>\n",
       "      <td>0</td>\n",
       "      <td>0</td>\n",
       "    </tr>\n",
       "    <tr>\n",
       "      <th>2016-09-02</th>\n",
       "      <td>71</td>\n",
       "      <td>55</td>\n",
       "      <td>63.0</td>\n",
       "      <td>0.0</td>\n",
       "      <td>Friday</td>\n",
       "      <td>4</td>\n",
       "      <td>401</td>\n",
       "      <td>0</td>\n",
       "      <td>1</td>\n",
       "    </tr>\n",
       "    <tr>\n",
       "      <th>2016-09-03</th>\n",
       "      <td>66</td>\n",
       "      <td>57</td>\n",
       "      <td>61.5</td>\n",
       "      <td>0.0</td>\n",
       "      <td>Saturday</td>\n",
       "      <td>5</td>\n",
       "      <td>341</td>\n",
       "      <td>0</td>\n",
       "      <td>1</td>\n",
       "    </tr>\n",
       "    <tr>\n",
       "      <th>2016-09-04</th>\n",
       "      <td>67</td>\n",
       "      <td>56</td>\n",
       "      <td>61.5</td>\n",
       "      <td>0.0</td>\n",
       "      <td>Sunday</td>\n",
       "      <td>6</td>\n",
       "      <td>317</td>\n",
       "      <td>0</td>\n",
       "      <td>1</td>\n",
       "    </tr>\n",
       "    <tr>\n",
       "      <th>2016-09-05</th>\n",
       "      <td>72</td>\n",
       "      <td>53</td>\n",
       "      <td>62.5</td>\n",
       "      <td>0.0</td>\n",
       "      <td>Monday</td>\n",
       "      <td>0</td>\n",
       "      <td>328</td>\n",
       "      <td>1</td>\n",
       "      <td>1</td>\n",
       "    </tr>\n",
       "  </tbody>\n",
       "</table>\n",
       "</div>"
      ],
      "text/plain": [
       "            Maximum  Minimum  Average  Precipitation   Weekday  weekday_num  \\\n",
       "Date                                                                          \n",
       "2016-09-01       68       58     63.0            0.0  Thursday            3   \n",
       "2016-09-02       71       55     63.0            0.0    Friday            4   \n",
       "2016-09-03       66       57     61.5            0.0  Saturday            5   \n",
       "2016-09-04       67       56     61.5            0.0    Sunday            6   \n",
       "2016-09-05       72       53     62.5            0.0    Monday            0   \n",
       "\n",
       "            Dispatched_calls  Holidays  Hol_weekend  \n",
       "Date                                                 \n",
       "2016-09-01               347         0            0  \n",
       "2016-09-02               401         0            1  \n",
       "2016-09-03               341         0            1  \n",
       "2016-09-04               317         0            1  \n",
       "2016-09-05               328         1            1  "
      ]
     },
     "execution_count": 21,
     "metadata": {},
     "output_type": "execute_result"
    }
   ],
   "source": [
    "weather = weather.set_index('Date')\n",
    "weather = weather.drop(columns = ['Unnamed: 0'])\n",
    "weather.head()"
   ]
  },
  {
   "cell_type": "code",
   "execution_count": 22,
   "metadata": {},
   "outputs": [
    {
     "data": {
      "text/plain": [
       "DatetimeIndex(['2016-09-01', '2016-09-02', '2016-09-03', '2016-09-04',\n",
       "               '2016-09-05', '2016-09-06', '2016-09-07', '2016-09-08',\n",
       "               '2016-09-09', '2016-09-10',\n",
       "               ...\n",
       "               '2019-09-21', '2019-09-22', '2019-09-23', '2019-09-24',\n",
       "               '2019-09-25', '2019-09-26', '2019-09-27', '2019-09-28',\n",
       "               '2019-09-29', '2019-09-30'],\n",
       "              dtype='datetime64[ns]', name='Date', length=1125, freq=None)"
      ]
     },
     "execution_count": 22,
     "metadata": {},
     "output_type": "execute_result"
    }
   ],
   "source": [
    "weather.index = pd.to_datetime(weather.index)\n",
    "weather.index"
   ]
  },
  {
   "cell_type": "code",
   "execution_count": 23,
   "metadata": {},
   "outputs": [
    {
     "data": {
      "text/plain": [
       "Maximum              0\n",
       "Minimum              0\n",
       "Average              0\n",
       "Precipitation       20\n",
       "Weekday              0\n",
       "weekday_num          0\n",
       "Dispatched_calls     0\n",
       "Holidays             0\n",
       "Hol_weekend          0\n",
       "dtype: int64"
      ]
     },
     "execution_count": 23,
     "metadata": {},
     "output_type": "execute_result"
    }
   ],
   "source": [
    "weather.isna().sum()"
   ]
  },
  {
   "cell_type": "code",
   "execution_count": 24,
   "metadata": {
    "scrolled": false
   },
   "outputs": [],
   "source": [
    "weather['Precipitation'] = weather['Precipitation'].fillna(weather['Precipitation'].mean())"
   ]
  },
  {
   "cell_type": "code",
   "execution_count": 25,
   "metadata": {},
   "outputs": [
    {
     "data": {
      "text/plain": [
       "Maximum             0\n",
       "Minimum             0\n",
       "Average             0\n",
       "Precipitation       0\n",
       "Weekday             0\n",
       "weekday_num         0\n",
       "Dispatched_calls    0\n",
       "Holidays            0\n",
       "Hol_weekend         0\n",
       "dtype: int64"
      ]
     },
     "execution_count": 25,
     "metadata": {},
     "output_type": "execute_result"
    }
   ],
   "source": [
    "weather.isna().sum()"
   ]
  },
  {
   "cell_type": "code",
   "execution_count": 26,
   "metadata": {},
   "outputs": [],
   "source": [
    "weather['Precipitation'] = weather['Precipitation'].astype(float)"
   ]
  },
  {
   "cell_type": "code",
   "execution_count": 27,
   "metadata": {
    "scrolled": true
   },
   "outputs": [
    {
     "data": {
      "text/plain": [
       "Maximum               int64\n",
       "Minimum               int64\n",
       "Average             float64\n",
       "Precipitation       float64\n",
       "Weekday              object\n",
       "weekday_num           int64\n",
       "Dispatched_calls      int64\n",
       "Holidays              int64\n",
       "Hol_weekend           int64\n",
       "dtype: object"
      ]
     },
     "execution_count": 27,
     "metadata": {},
     "output_type": "execute_result"
    }
   ],
   "source": [
    "weather.dtypes"
   ]
  },
  {
   "cell_type": "code",
   "execution_count": 28,
   "metadata": {},
   "outputs": [],
   "source": [
    "weather = weather.resample('H').pad()"
   ]
  },
  {
   "cell_type": "code",
   "execution_count": 29,
   "metadata": {},
   "outputs": [],
   "source": [
    "weather = weather.loc['2016-09-01':'2019-09-01']"
   ]
  },
  {
   "cell_type": "code",
   "execution_count": 30,
   "metadata": {},
   "outputs": [
    {
     "data": {
      "text/html": [
       "<div>\n",
       "<style scoped>\n",
       "    .dataframe tbody tr th:only-of-type {\n",
       "        vertical-align: middle;\n",
       "    }\n",
       "\n",
       "    .dataframe tbody tr th {\n",
       "        vertical-align: top;\n",
       "    }\n",
       "\n",
       "    .dataframe thead th {\n",
       "        text-align: right;\n",
       "    }\n",
       "</style>\n",
       "<table border=\"1\" class=\"dataframe\">\n",
       "  <thead>\n",
       "    <tr style=\"text-align: right;\">\n",
       "      <th></th>\n",
       "      <th>HourlyCalls</th>\n",
       "      <th>Maximum</th>\n",
       "      <th>Minimum</th>\n",
       "      <th>Average</th>\n",
       "      <th>Precipitation</th>\n",
       "      <th>Weekday</th>\n",
       "      <th>weekday_num</th>\n",
       "      <th>Dispatched_calls</th>\n",
       "      <th>Holidays</th>\n",
       "      <th>Hol_weekend</th>\n",
       "      <th>Hour</th>\n",
       "    </tr>\n",
       "    <tr>\n",
       "      <th>Date</th>\n",
       "      <th></th>\n",
       "      <th></th>\n",
       "      <th></th>\n",
       "      <th></th>\n",
       "      <th></th>\n",
       "      <th></th>\n",
       "      <th></th>\n",
       "      <th></th>\n",
       "      <th></th>\n",
       "      <th></th>\n",
       "      <th></th>\n",
       "    </tr>\n",
       "  </thead>\n",
       "  <tbody>\n",
       "    <tr>\n",
       "      <th>2016-09-01 00:00:00</th>\n",
       "      <td>16</td>\n",
       "      <td>68</td>\n",
       "      <td>58</td>\n",
       "      <td>63.0</td>\n",
       "      <td>0.0</td>\n",
       "      <td>Thursday</td>\n",
       "      <td>3</td>\n",
       "      <td>347</td>\n",
       "      <td>0</td>\n",
       "      <td>0</td>\n",
       "      <td>0</td>\n",
       "    </tr>\n",
       "    <tr>\n",
       "      <th>2016-09-01 01:00:00</th>\n",
       "      <td>6</td>\n",
       "      <td>68</td>\n",
       "      <td>58</td>\n",
       "      <td>63.0</td>\n",
       "      <td>0.0</td>\n",
       "      <td>Thursday</td>\n",
       "      <td>3</td>\n",
       "      <td>347</td>\n",
       "      <td>0</td>\n",
       "      <td>0</td>\n",
       "      <td>1</td>\n",
       "    </tr>\n",
       "    <tr>\n",
       "      <th>2016-09-01 02:00:00</th>\n",
       "      <td>10</td>\n",
       "      <td>68</td>\n",
       "      <td>58</td>\n",
       "      <td>63.0</td>\n",
       "      <td>0.0</td>\n",
       "      <td>Thursday</td>\n",
       "      <td>3</td>\n",
       "      <td>347</td>\n",
       "      <td>0</td>\n",
       "      <td>0</td>\n",
       "      <td>2</td>\n",
       "    </tr>\n",
       "    <tr>\n",
       "      <th>2016-09-01 03:00:00</th>\n",
       "      <td>9</td>\n",
       "      <td>68</td>\n",
       "      <td>58</td>\n",
       "      <td>63.0</td>\n",
       "      <td>0.0</td>\n",
       "      <td>Thursday</td>\n",
       "      <td>3</td>\n",
       "      <td>347</td>\n",
       "      <td>0</td>\n",
       "      <td>0</td>\n",
       "      <td>3</td>\n",
       "    </tr>\n",
       "    <tr>\n",
       "      <th>2016-09-01 04:00:00</th>\n",
       "      <td>6</td>\n",
       "      <td>68</td>\n",
       "      <td>58</td>\n",
       "      <td>63.0</td>\n",
       "      <td>0.0</td>\n",
       "      <td>Thursday</td>\n",
       "      <td>3</td>\n",
       "      <td>347</td>\n",
       "      <td>0</td>\n",
       "      <td>0</td>\n",
       "      <td>4</td>\n",
       "    </tr>\n",
       "  </tbody>\n",
       "</table>\n",
       "</div>"
      ],
      "text/plain": [
       "                     HourlyCalls  Maximum  Minimum  Average  Precipitation  \\\n",
       "Date                                                                         \n",
       "2016-09-01 00:00:00           16       68       58     63.0            0.0   \n",
       "2016-09-01 01:00:00            6       68       58     63.0            0.0   \n",
       "2016-09-01 02:00:00           10       68       58     63.0            0.0   \n",
       "2016-09-01 03:00:00            9       68       58     63.0            0.0   \n",
       "2016-09-01 04:00:00            6       68       58     63.0            0.0   \n",
       "\n",
       "                      Weekday  weekday_num  Dispatched_calls  Holidays  \\\n",
       "Date                                                                     \n",
       "2016-09-01 00:00:00  Thursday            3               347         0   \n",
       "2016-09-01 01:00:00  Thursday            3               347         0   \n",
       "2016-09-01 02:00:00  Thursday            3               347         0   \n",
       "2016-09-01 03:00:00  Thursday            3               347         0   \n",
       "2016-09-01 04:00:00  Thursday            3               347         0   \n",
       "\n",
       "                     Hol_weekend  Hour  \n",
       "Date                                    \n",
       "2016-09-01 00:00:00            0     0  \n",
       "2016-09-01 01:00:00            0     1  \n",
       "2016-09-01 02:00:00            0     2  \n",
       "2016-09-01 03:00:00            0     3  \n",
       "2016-09-01 04:00:00            0     4  "
      ]
     },
     "execution_count": 30,
     "metadata": {},
     "output_type": "execute_result"
    }
   ],
   "source": [
    "dfTot = forPlot.merge(weather, left_on='Date', right_on='Date')\n",
    "dfTot.rename(columns= {'call_type': 'HourlyCalls' }, inplace = True)\n",
    "dfTot['Hour'] = dfTot.index.hour\n",
    "dfTot.head()"
   ]
  },
  {
   "cell_type": "markdown",
   "metadata": {},
   "source": [
    "Step 1: Gather data.\n",
    "\n",
    "We will use pandas groupby method to summarize the immigration data by Continent. The general process of groupby involves the following steps:\n",
    "\n",
    "Split: Splitting the data into groups based on some criteria.\n",
    "Apply: Applying a function to each group independently:\n",
    ".sum()\n",
    ".count()\n",
    ".mean() \n",
    ".std() \n",
    ".aggregate()\n",
    ".apply()\n",
    ".etc..\n",
    "Combine: Combining the results into a data structure. FROM IBM Data Visualization with Python"
   ]
  },
  {
   "attachments": {
    "Screen%20Shot%202019-11-11%20at%207.13.03%20AM.png": {
     "image/png": "[encoded data removed]"
    }
   },
   "cell_type": "markdown",
   "metadata": {},
   "source": [
    "![Screen%20Shot%202019-11-11%20at%207.13.03%20AM.png](attachment:Screen%20Shot%202019-11-11%20at%207.13.03%20AM.png)"
   ]
  },
  {
   "cell_type": "code",
   "execution_count": 31,
   "metadata": {},
   "outputs": [],
   "source": [
    "dfw = dfTot['Dispatched_calls'].groupby(dfTot['weekday_num']).mean()"
   ]
  },
  {
   "cell_type": "code",
   "execution_count": 32,
   "metadata": {},
   "outputs": [
    {
     "data": {
      "text/plain": [
       "[]"
      ]
     },
     "execution_count": 32,
     "metadata": {},
     "output_type": "execute_result"
    },
    {
     "data": {
      "image/png": "[encoded data removed]",
      "text/plain": [
       "<Figure size 864x432 with 1 Axes>"
      ]
     },
     "metadata": {
      "needs_background": "light"
     },
     "output_type": "display_data"
    }
   ],
   "source": [
    "plt.style.use('bmh')\n",
    "dfw.plot(kind='bar', figsize=(12,6), color ='green')\n",
    "plt.title('Average number of calls per day')\n",
    "plt.plot()"
   ]
  },
  {
   "cell_type": "code",
   "execution_count": 33,
   "metadata": {},
   "outputs": [],
   "source": [
    "dfh = dfTot['HourlyCalls'].groupby(dfTot['Hour']).sum()"
   ]
  },
  {
   "cell_type": "code",
   "execution_count": 34,
   "metadata": {},
   "outputs": [
    {
     "data": {
      "text/plain": [
       "[]"
      ]
     },
     "execution_count": 34,
     "metadata": {},
     "output_type": "execute_result"
    },
    {
     "data": {
      "image/png": "[encoded data removed]",
      "text/plain": [
       "<Figure size 1080x720 with 1 Axes>"
      ]
     },
     "metadata": {
      "needs_background": "light"
     },
     "output_type": "display_data"
    }
   ],
   "source": [
    "dfh.plot(kind='bar', figsize=(15,10))\n",
    "plt.title('Total amount of calls per/hr over 3 Years')\n",
    "plt.ylabel('Number of Calls')\n",
    "plt.plot()"
   ]
  },
  {
   "cell_type": "code",
   "execution_count": 35,
   "metadata": {},
   "outputs": [],
   "source": [
    "dummy = pd.get_dummies(dfTot['Weekday'])\n",
    "dummy = dummy[['Monday','Tuesday','Wednesday','Thursday','Friday','Saturday','Sunday']]\n",
    "dfTotal = dfTot.merge(dummy, left_on='Date', right_on='Date')"
   ]
  },
  {
   "cell_type": "code",
   "execution_count": 36,
   "metadata": {},
   "outputs": [],
   "source": [
    "dfTotal['Month']=dfTotal.index.month_name()\n",
    "dummies = pd.get_dummies(dfTotal['Month'])\n",
    "dummies = dummies[['January','February','March','April','May','June','July','August','September','October','November','December']]\n",
    "dfTotal = dfTotal.merge(dummies, left_on='Date', right_on='Date')"
   ]
  },
  {
   "cell_type": "code",
   "execution_count": 37,
   "metadata": {},
   "outputs": [],
   "source": [
    "dummyHour = pd.get_dummies(dfTotal['Hour'])\n",
    "dfTotal = dfTotal.merge(dummyHour, left_on='Date', right_on='Date')"
   ]
  },
  {
   "cell_type": "code",
   "execution_count": 38,
   "metadata": {
    "scrolled": true
   },
   "outputs": [
    {
     "data": {
      "text/html": [
       "<div>\n",
       "<style scoped>\n",
       "    .dataframe tbody tr th:only-of-type {\n",
       "        vertical-align: middle;\n",
       "    }\n",
       "\n",
       "    .dataframe tbody tr th {\n",
       "        vertical-align: top;\n",
       "    }\n",
       "\n",
       "    .dataframe thead th {\n",
       "        text-align: right;\n",
       "    }\n",
       "</style>\n",
       "<table border=\"1\" class=\"dataframe\">\n",
       "  <thead>\n",
       "    <tr style=\"text-align: right;\">\n",
       "      <th></th>\n",
       "      <th>HourlyCalls</th>\n",
       "      <th>Maximum</th>\n",
       "      <th>Minimum</th>\n",
       "      <th>Average</th>\n",
       "      <th>Precipitation</th>\n",
       "      <th>Dispatched_calls</th>\n",
       "      <th>Holidays</th>\n",
       "      <th>Hol_weekend</th>\n",
       "      <th>Monday</th>\n",
       "      <th>Tuesday</th>\n",
       "      <th>Wednesday</th>\n",
       "      <th>Thursday</th>\n",
       "      <th>Friday</th>\n",
       "      <th>Saturday</th>\n",
       "      <th>Sunday</th>\n",
       "      <th>January</th>\n",
       "      <th>February</th>\n",
       "      <th>March</th>\n",
       "      <th>April</th>\n",
       "      <th>May</th>\n",
       "      <th>June</th>\n",
       "      <th>July</th>\n",
       "      <th>August</th>\n",
       "      <th>September</th>\n",
       "      <th>October</th>\n",
       "      <th>November</th>\n",
       "      <th>December</th>\n",
       "      <th>0</th>\n",
       "      <th>1</th>\n",
       "      <th>2</th>\n",
       "      <th>3</th>\n",
       "      <th>4</th>\n",
       "      <th>5</th>\n",
       "      <th>6</th>\n",
       "      <th>7</th>\n",
       "      <th>8</th>\n",
       "      <th>9</th>\n",
       "      <th>10</th>\n",
       "      <th>11</th>\n",
       "      <th>12</th>\n",
       "      <th>13</th>\n",
       "      <th>14</th>\n",
       "      <th>15</th>\n",
       "      <th>16</th>\n",
       "      <th>17</th>\n",
       "      <th>18</th>\n",
       "      <th>19</th>\n",
       "      <th>20</th>\n",
       "      <th>21</th>\n",
       "      <th>22</th>\n",
       "      <th>23</th>\n",
       "    </tr>\n",
       "    <tr>\n",
       "      <th>Date</th>\n",
       "      <th></th>\n",
       "      <th></th>\n",
       "      <th></th>\n",
       "      <th></th>\n",
       "      <th></th>\n",
       "      <th></th>\n",
       "      <th></th>\n",
       "      <th></th>\n",
       "      <th></th>\n",
       "      <th></th>\n",
       "      <th></th>\n",
       "      <th></th>\n",
       "      <th></th>\n",
       "      <th></th>\n",
       "      <th></th>\n",
       "      <th></th>\n",
       "      <th></th>\n",
       "      <th></th>\n",
       "      <th></th>\n",
       "      <th></th>\n",
       "      <th></th>\n",
       "      <th></th>\n",
       "      <th></th>\n",
       "      <th></th>\n",
       "      <th></th>\n",
       "      <th></th>\n",
       "      <th></th>\n",
       "      <th></th>\n",
       "      <th></th>\n",
       "      <th></th>\n",
       "      <th></th>\n",
       "      <th></th>\n",
       "      <th></th>\n",
       "      <th></th>\n",
       "      <th></th>\n",
       "      <th></th>\n",
       "      <th></th>\n",
       "      <th></th>\n",
       "      <th></th>\n",
       "      <th></th>\n",
       "      <th></th>\n",
       "      <th></th>\n",
       "      <th></th>\n",
       "      <th></th>\n",
       "      <th></th>\n",
       "      <th></th>\n",
       "      <th></th>\n",
       "      <th></th>\n",
       "      <th></th>\n",
       "      <th></th>\n",
       "      <th></th>\n",
       "    </tr>\n",
       "  </thead>\n",
       "  <tbody>\n",
       "    <tr>\n",
       "      <th>2016-09-01 00:00:00</th>\n",
       "      <td>16</td>\n",
       "      <td>68</td>\n",
       "      <td>58</td>\n",
       "      <td>63.0</td>\n",
       "      <td>0.0</td>\n",
       "      <td>347</td>\n",
       "      <td>0</td>\n",
       "      <td>0</td>\n",
       "      <td>0</td>\n",
       "      <td>0</td>\n",
       "      <td>0</td>\n",
       "      <td>1</td>\n",
       "      <td>0</td>\n",
       "      <td>0</td>\n",
       "      <td>0</td>\n",
       "      <td>0</td>\n",
       "      <td>0</td>\n",
       "      <td>0</td>\n",
       "      <td>0</td>\n",
       "      <td>0</td>\n",
       "      <td>0</td>\n",
       "      <td>0</td>\n",
       "      <td>0</td>\n",
       "      <td>1</td>\n",
       "      <td>0</td>\n",
       "      <td>0</td>\n",
       "      <td>0</td>\n",
       "      <td>1</td>\n",
       "      <td>0</td>\n",
       "      <td>0</td>\n",
       "      <td>0</td>\n",
       "      <td>0</td>\n",
       "      <td>0</td>\n",
       "      <td>0</td>\n",
       "      <td>0</td>\n",
       "      <td>0</td>\n",
       "      <td>0</td>\n",
       "      <td>0</td>\n",
       "      <td>0</td>\n",
       "      <td>0</td>\n",
       "      <td>0</td>\n",
       "      <td>0</td>\n",
       "      <td>0</td>\n",
       "      <td>0</td>\n",
       "      <td>0</td>\n",
       "      <td>0</td>\n",
       "      <td>0</td>\n",
       "      <td>0</td>\n",
       "      <td>0</td>\n",
       "      <td>0</td>\n",
       "      <td>0</td>\n",
       "    </tr>\n",
       "    <tr>\n",
       "      <th>2016-09-01 01:00:00</th>\n",
       "      <td>6</td>\n",
       "      <td>68</td>\n",
       "      <td>58</td>\n",
       "      <td>63.0</td>\n",
       "      <td>0.0</td>\n",
       "      <td>347</td>\n",
       "      <td>0</td>\n",
       "      <td>0</td>\n",
       "      <td>0</td>\n",
       "      <td>0</td>\n",
       "      <td>0</td>\n",
       "      <td>1</td>\n",
       "      <td>0</td>\n",
       "      <td>0</td>\n",
       "      <td>0</td>\n",
       "      <td>0</td>\n",
       "      <td>0</td>\n",
       "      <td>0</td>\n",
       "      <td>0</td>\n",
       "      <td>0</td>\n",
       "      <td>0</td>\n",
       "      <td>0</td>\n",
       "      <td>0</td>\n",
       "      <td>1</td>\n",
       "      <td>0</td>\n",
       "      <td>0</td>\n",
       "      <td>0</td>\n",
       "      <td>0</td>\n",
       "      <td>1</td>\n",
       "      <td>0</td>\n",
       "      <td>0</td>\n",
       "      <td>0</td>\n",
       "      <td>0</td>\n",
       "      <td>0</td>\n",
       "      <td>0</td>\n",
       "      <td>0</td>\n",
       "      <td>0</td>\n",
       "      <td>0</td>\n",
       "      <td>0</td>\n",
       "      <td>0</td>\n",
       "      <td>0</td>\n",
       "      <td>0</td>\n",
       "      <td>0</td>\n",
       "      <td>0</td>\n",
       "      <td>0</td>\n",
       "      <td>0</td>\n",
       "      <td>0</td>\n",
       "      <td>0</td>\n",
       "      <td>0</td>\n",
       "      <td>0</td>\n",
       "      <td>0</td>\n",
       "    </tr>\n",
       "    <tr>\n",
       "      <th>2016-09-01 02:00:00</th>\n",
       "      <td>10</td>\n",
       "      <td>68</td>\n",
       "      <td>58</td>\n",
       "      <td>63.0</td>\n",
       "      <td>0.0</td>\n",
       "      <td>347</td>\n",
       "      <td>0</td>\n",
       "      <td>0</td>\n",
       "      <td>0</td>\n",
       "      <td>0</td>\n",
       "      <td>0</td>\n",
       "      <td>1</td>\n",
       "      <td>0</td>\n",
       "      <td>0</td>\n",
       "      <td>0</td>\n",
       "      <td>0</td>\n",
       "      <td>0</td>\n",
       "      <td>0</td>\n",
       "      <td>0</td>\n",
       "      <td>0</td>\n",
       "      <td>0</td>\n",
       "      <td>0</td>\n",
       "      <td>0</td>\n",
       "      <td>1</td>\n",
       "      <td>0</td>\n",
       "      <td>0</td>\n",
       "      <td>0</td>\n",
       "      <td>0</td>\n",
       "      <td>0</td>\n",
       "      <td>1</td>\n",
       "      <td>0</td>\n",
       "      <td>0</td>\n",
       "      <td>0</td>\n",
       "      <td>0</td>\n",
       "      <td>0</td>\n",
       "      <td>0</td>\n",
       "      <td>0</td>\n",
       "      <td>0</td>\n",
       "      <td>0</td>\n",
       "      <td>0</td>\n",
       "      <td>0</td>\n",
       "      <td>0</td>\n",
       "      <td>0</td>\n",
       "      <td>0</td>\n",
       "      <td>0</td>\n",
       "      <td>0</td>\n",
       "      <td>0</td>\n",
       "      <td>0</td>\n",
       "      <td>0</td>\n",
       "      <td>0</td>\n",
       "      <td>0</td>\n",
       "    </tr>\n",
       "    <tr>\n",
       "      <th>2016-09-01 03:00:00</th>\n",
       "      <td>9</td>\n",
       "      <td>68</td>\n",
       "      <td>58</td>\n",
       "      <td>63.0</td>\n",
       "      <td>0.0</td>\n",
       "      <td>347</td>\n",
       "      <td>0</td>\n",
       "      <td>0</td>\n",
       "      <td>0</td>\n",
       "      <td>0</td>\n",
       "      <td>0</td>\n",
       "      <td>1</td>\n",
       "      <td>0</td>\n",
       "      <td>0</td>\n",
       "      <td>0</td>\n",
       "      <td>0</td>\n",
       "      <td>0</td>\n",
       "      <td>0</td>\n",
       "      <td>0</td>\n",
       "      <td>0</td>\n",
       "      <td>0</td>\n",
       "      <td>0</td>\n",
       "      <td>0</td>\n",
       "      <td>1</td>\n",
       "      <td>0</td>\n",
       "      <td>0</td>\n",
       "      <td>0</td>\n",
       "      <td>0</td>\n",
       "      <td>0</td>\n",
       "      <td>0</td>\n",
       "      <td>1</td>\n",
       "      <td>0</td>\n",
       "      <td>0</td>\n",
       "      <td>0</td>\n",
       "      <td>0</td>\n",
       "      <td>0</td>\n",
       "      <td>0</td>\n",
       "      <td>0</td>\n",
       "      <td>0</td>\n",
       "      <td>0</td>\n",
       "      <td>0</td>\n",
       "      <td>0</td>\n",
       "      <td>0</td>\n",
       "      <td>0</td>\n",
       "      <td>0</td>\n",
       "      <td>0</td>\n",
       "      <td>0</td>\n",
       "      <td>0</td>\n",
       "      <td>0</td>\n",
       "      <td>0</td>\n",
       "      <td>0</td>\n",
       "    </tr>\n",
       "    <tr>\n",
       "      <th>2016-09-01 04:00:00</th>\n",
       "      <td>6</td>\n",
       "      <td>68</td>\n",
       "      <td>58</td>\n",
       "      <td>63.0</td>\n",
       "      <td>0.0</td>\n",
       "      <td>347</td>\n",
       "      <td>0</td>\n",
       "      <td>0</td>\n",
       "      <td>0</td>\n",
       "      <td>0</td>\n",
       "      <td>0</td>\n",
       "      <td>1</td>\n",
       "      <td>0</td>\n",
       "      <td>0</td>\n",
       "      <td>0</td>\n",
       "      <td>0</td>\n",
       "      <td>0</td>\n",
       "      <td>0</td>\n",
       "      <td>0</td>\n",
       "      <td>0</td>\n",
       "      <td>0</td>\n",
       "      <td>0</td>\n",
       "      <td>0</td>\n",
       "      <td>1</td>\n",
       "      <td>0</td>\n",
       "      <td>0</td>\n",
       "      <td>0</td>\n",
       "      <td>0</td>\n",
       "      <td>0</td>\n",
       "      <td>0</td>\n",
       "      <td>0</td>\n",
       "      <td>1</td>\n",
       "      <td>0</td>\n",
       "      <td>0</td>\n",
       "      <td>0</td>\n",
       "      <td>0</td>\n",
       "      <td>0</td>\n",
       "      <td>0</td>\n",
       "      <td>0</td>\n",
       "      <td>0</td>\n",
       "      <td>0</td>\n",
       "      <td>0</td>\n",
       "      <td>0</td>\n",
       "      <td>0</td>\n",
       "      <td>0</td>\n",
       "      <td>0</td>\n",
       "      <td>0</td>\n",
       "      <td>0</td>\n",
       "      <td>0</td>\n",
       "      <td>0</td>\n",
       "      <td>0</td>\n",
       "    </tr>\n",
       "  </tbody>\n",
       "</table>\n",
       "</div>"
      ],
      "text/plain": [
       "                     HourlyCalls  Maximum  Minimum  Average  Precipitation  \\\n",
       "Date                                                                         \n",
       "2016-09-01 00:00:00           16       68       58     63.0            0.0   \n",
       "2016-09-01 01:00:00            6       68       58     63.0            0.0   \n",
       "2016-09-01 02:00:00           10       68       58     63.0            0.0   \n",
       "2016-09-01 03:00:00            9       68       58     63.0            0.0   \n",
       "2016-09-01 04:00:00            6       68       58     63.0            0.0   \n",
       "\n",
       "                     Dispatched_calls  Holidays  Hol_weekend  Monday  Tuesday  \\\n",
       "Date                                                                            \n",
       "2016-09-01 00:00:00               347         0            0       0        0   \n",
       "2016-09-01 01:00:00               347         0            0       0        0   \n",
       "2016-09-01 02:00:00               347         0            0       0        0   \n",
       "2016-09-01 03:00:00               347         0            0       0        0   \n",
       "2016-09-01 04:00:00               347         0            0       0        0   \n",
       "\n",
       "                     Wednesday  Thursday  Friday  Saturday  Sunday  January  \\\n",
       "Date                                                                          \n",
       "2016-09-01 00:00:00          0         1       0         0       0        0   \n",
       "2016-09-01 01:00:00          0         1       0         0       0        0   \n",
       "2016-09-01 02:00:00          0         1       0         0       0        0   \n",
       "2016-09-01 03:00:00          0         1       0         0       0        0   \n",
       "2016-09-01 04:00:00          0         1       0         0       0        0   \n",
       "\n",
       "                     February  March  April  May  June  July  August  \\\n",
       "Date                                                                   \n",
       "2016-09-01 00:00:00         0      0      0    0     0     0       0   \n",
       "2016-09-01 01:00:00         0      0      0    0     0     0       0   \n",
       "2016-09-01 02:00:00         0      0      0    0     0     0       0   \n",
       "2016-09-01 03:00:00         0      0      0    0     0     0       0   \n",
       "2016-09-01 04:00:00         0      0      0    0     0     0       0   \n",
       "\n",
       "                     September  October  November  December  0  1  2  3  4  5  \\\n",
       "Date                                                                            \n",
       "2016-09-01 00:00:00          1        0         0         0  1  0  0  0  0  0   \n",
       "2016-09-01 01:00:00          1        0         0         0  0  1  0  0  0  0   \n",
       "2016-09-01 02:00:00          1        0         0         0  0  0  1  0  0  0   \n",
       "2016-09-01 03:00:00          1        0         0         0  0  0  0  1  0  0   \n",
       "2016-09-01 04:00:00          1        0         0         0  0  0  0  0  1  0   \n",
       "\n",
       "                     6  7  8  9  10  11  12  13  14  15  16  17  18  19  20  \\\n",
       "Date                                                                          \n",
       "2016-09-01 00:00:00  0  0  0  0   0   0   0   0   0   0   0   0   0   0   0   \n",
       "2016-09-01 01:00:00  0  0  0  0   0   0   0   0   0   0   0   0   0   0   0   \n",
       "2016-09-01 02:00:00  0  0  0  0   0   0   0   0   0   0   0   0   0   0   0   \n",
       "2016-09-01 03:00:00  0  0  0  0   0   0   0   0   0   0   0   0   0   0   0   \n",
       "2016-09-01 04:00:00  0  0  0  0   0   0   0   0   0   0   0   0   0   0   0   \n",
       "\n",
       "                     21  22  23  \n",
       "Date                             \n",
       "2016-09-01 00:00:00   0   0   0  \n",
       "2016-09-01 01:00:00   0   0   0  \n",
       "2016-09-01 02:00:00   0   0   0  \n",
       "2016-09-01 03:00:00   0   0   0  \n",
       "2016-09-01 04:00:00   0   0   0  "
      ]
     },
     "execution_count": 38,
     "metadata": {},
     "output_type": "execute_result"
    }
   ],
   "source": [
    "dfTotal.drop(['weekday_num','Weekday','Month','Hour'],axis=1, inplace=True)\n",
    "dfTotal.head()"
   ]
  },
  {
   "cell_type": "markdown",
   "metadata": {},
   "source": [
    "When first working on the data, there was missing data at '01-10-19' and '01-11-19.' I originally filled this data with a 1 value, but I will change it to the average call hourly call volume. "
   ]
  },
  {
   "cell_type": "code",
   "execution_count": 39,
   "metadata": {
    "scrolled": true
   },
   "outputs": [
    {
     "name": "stderr",
     "output_type": "stream",
     "text": [
      "/Users/elliott/anaconda3/lib/python3.7/site-packages/pandas/core/indexing.py:190: SettingWithCopyWarning: \n",
      "A value is trying to be set on a copy of a slice from a DataFrame\n",
      "\n",
      "See the caveats in the documentation: http://pandas.pydata.org/pandas-docs/stable/indexing.html#indexing-view-versus-copy\n",
      "  self._setitem_with_indexer(indexer, value)\n"
     ]
    }
   ],
   "source": [
    "dfTotal['HourlyCalls'].loc['01-10-19':'01-11-19'] = dfTotal['HourlyCalls'].mean()"
   ]
  },
  {
   "cell_type": "code",
   "execution_count": 40,
   "metadata": {},
   "outputs": [],
   "source": [
    "dfTotal = dfTotal.assign(Bins = lambda x: np.ceil(x.HourlyCalls/56 * 7))\n",
    "dfTotal.Bins = dfTotal.Bins.astype(int)"
   ]
  },
  {
   "cell_type": "code",
   "execution_count": 693,
   "metadata": {},
   "outputs": [],
   "source": [
    "dfTotal.to_csv(r'/Users/elliott/Documents/Personal_Projects/SF_EMS_Call_Vol/DF/CSV_Files/hourly_EMS.csv')"
   ]
  },
  {
   "cell_type": "markdown",
   "metadata": {},
   "source": [
    "Let's run a quick linear regress on our new and improved data frame and see what we get. "
   ]
  },
  {
   "cell_type": "code",
   "execution_count": 41,
   "metadata": {},
   "outputs": [],
   "source": [
    "lmdf =  dfTotal.drop(['HourlyCalls','Dispatched_calls','Bins'],axis=1)\n",
    "Z = lmdf\n",
    "y = dfTotal['HourlyCalls']"
   ]
  },
  {
   "cell_type": "code",
   "execution_count": 42,
   "metadata": {
    "scrolled": false
   },
   "outputs": [
    {
     "name": "stdout",
     "output_type": "stream",
     "text": [
      "('LinearRegress R^2 without test_train_split or CV', 0.49448202812360104)\n",
      "('Crossval of linRegress= ', 0.48698152071311795)\n",
      "Comparing results of Test_train_split linearRegress:\n",
      "                      Actual  Predicted\n",
      "Date                                  \n",
      "2017-04-06 03:00:00     4.0   8.208740\n",
      "2019-08-29 23:00:00    13.0  13.224365\n",
      "2016-12-24 16:00:00    22.0  20.427490\n",
      "2017-01-28 16:00:00    23.0  20.599365\n",
      "2017-03-13 07:00:00    14.0  12.693115\n",
      "2017-08-30 23:00:00    14.0  12.614990\n",
      "2017-09-01 09:00:00    25.0  20.427490\n",
      "2019-07-26 18:00:00    24.0  18.927490\n",
      "Max Average Error of linRegressTTS: 3.53974366309434\n",
      "('R^2 score of linRegressTTS:', 0.49546414156997043)\n",
      "('R^2 score of ridgeRegressCV=', 0.4944704304521144)\n",
      "Max Average Error of ridgeRegress= 3.539122056107422\n",
      "('R^2 score of ridgeRegress=', 0.49533909631036865)\n"
     ]
    }
   ],
   "source": [
    "from sklearn.model_selection import train_test_split\n",
    "from sklearn.linear_model import Ridge\n",
    "from sklearn.linear_model import RidgeCV\n",
    "from sklearn.metrics import mean_absolute_error\n",
    "from sklearn.model_selection import cross_val_score\n",
    "\n",
    "def linRegress(Z,y):\n",
    "    lm = LinearRegression(normalize=True)\n",
    "    y.values.reshape(-1,1)\n",
    "    Z.values.reshape(-1,len(Z.columns))\n",
    "    lm.fit(Z,y)\n",
    "    return 'LinearRegress R^2 without test_train_split or CV',lm.score(Z,y)\n",
    "\n",
    "def linRegressTTS(Z,y):\n",
    "    X_train, X_test, y_train, y_test = train_test_split(Z, y, test_size=0.33, random_state=42)\n",
    "    lm = LinearRegression(normalize=True)\n",
    "    lm.fit(X_train,y_train)\n",
    "    score = lm.score(X_test,y_test)\n",
    "    y_pred = lm.predict(X_test)\n",
    "    df = pd.DataFrame({'Actual': y_test, 'Predicted': y_pred})\n",
    "    print('Comparing results of Test_train_split linearRegress:\\n', df.head(8))\n",
    "    print('Max Average Error of linRegressTTS:',mean_absolute_error(y_test, y_pred))\n",
    "    return 'R^2 score of linRegressTTS:',score\n",
    "\n",
    "def linRegressCV(Z,y):\n",
    "    lm = LinearRegression(normalize=True)\n",
    "    scores = cross_val_score(lm, Z, y, cv=5)\n",
    "    return \"Crossval of linRegress= \",scores.mean()\n",
    "\n",
    "def ridgeRegress(Z,y):\n",
    "    X_train, X_test, y_train, y_test = train_test_split(Z, y, test_size=0.33, random_state=42)\n",
    "    rr = Ridge(alpha=.001,normalize=True)\n",
    "    rr.fit(X_train, y_train)\n",
    "    y_pred = rr.predict(X_test)\n",
    "    score = rr.score(X_test,y_test)\n",
    "    print('Max Average Error of ridgeRegress=',mean_absolute_error(y_test, y_pred))\n",
    "    return 'R^2 score of ridgeRegress=',score\n",
    "\n",
    "def ridgeRegressCV(Z,y):\n",
    "    rr = RidgeCV(alphas=[.001,.01,.1,1,10,100,1000],normalize=True,cv=5).fit(Z,y)\n",
    "    score = rr.score(Z,y)\n",
    "    return 'R^2 score of ridgeRegressCV=',score\n",
    "    \n",
    "def regress(Z,y):\n",
    "    print(linRegress(Z,y))\n",
    "    print(linRegressCV(Z,y))\n",
    "    print(linRegressTTS(Z,y))\n",
    "    print(ridgeRegressCV(Z,y))\n",
    "    print(ridgeRegress(Z,y))\n",
    "\n",
    "regress(Z,y)"
   ]
  },
  {
   "cell_type": "code",
   "execution_count": 699,
   "metadata": {},
   "outputs": [],
   "source": [
    "yNN = dfTotal['Bins']\n",
    "X_train, X_test, y_train, y_test = train_test_split(Z, yNN, test_size=0.33, random_state=42)"
   ]
  },
  {
   "cell_type": "code",
   "execution_count": 700,
   "metadata": {},
   "outputs": [
    {
     "name": "stderr",
     "output_type": "stream",
     "text": [
      "/Users/elliott/anaconda3/lib/python3.7/site-packages/sklearn/preprocessing/data.py:645: DataConversionWarning: Data with input dtype uint8, int64, float64 were all converted to float64 by StandardScaler.\n",
      "  return self.partial_fit(X, y)\n"
     ]
    },
    {
     "data": {
      "text/plain": [
       "StandardScaler(copy=True, with_mean=True, with_std=True)"
      ]
     },
     "execution_count": 700,
     "metadata": {},
     "output_type": "execute_result"
    }
   ],
   "source": [
    "from sklearn.preprocessing import StandardScaler\n",
    "scaler = StandardScaler()\n",
    "scaler.fit(X_train)"
   ]
  },
  {
   "cell_type": "code",
   "execution_count": 701,
   "metadata": {},
   "outputs": [
    {
     "name": "stderr",
     "output_type": "stream",
     "text": [
      "/Users/elliott/anaconda3/lib/python3.7/site-packages/ipykernel_launcher.py:2: DataConversionWarning: Data with input dtype uint8, int64, float64 were all converted to float64 by StandardScaler.\n",
      "  \n",
      "/Users/elliott/anaconda3/lib/python3.7/site-packages/ipykernel_launcher.py:3: DataConversionWarning: Data with input dtype uint8, int64, float64 were all converted to float64 by StandardScaler.\n",
      "  This is separate from the ipykernel package so we can avoid doing imports until\n"
     ]
    }
   ],
   "source": [
    "# Now apply the transformations to the data:\n",
    "X_train = scaler.transform(X_train)\n",
    "X_test = scaler.transform(X_test)"
   ]
  },
  {
   "cell_type": "code",
   "execution_count": 702,
   "metadata": {},
   "outputs": [
    {
     "name": "stderr",
     "output_type": "stream",
     "text": [
      "/Users/elliott/anaconda3/lib/python3.7/site-packages/sklearn/neural_network/multilayer_perceptron.py:562: ConvergenceWarning: Stochastic Optimizer: Maximum iterations (200) reached and the optimization hasn't converged yet.\n",
      "  % self.max_iter, ConvergenceWarning)\n"
     ]
    },
    {
     "data": {
      "text/plain": [
       "MLPClassifier(activation='relu', alpha=0.0001, batch_size='auto', beta_1=0.9,\n",
       "       beta_2=0.999, early_stopping=False, epsilon=1e-08,\n",
       "       hidden_layer_sizes=(30, 30, 30), learning_rate='constant',\n",
       "       learning_rate_init=0.001, max_iter=200, momentum=0.9,\n",
       "       n_iter_no_change=10, nesterovs_momentum=True, power_t=0.5,\n",
       "       random_state=None, shuffle=True, solver='adam', tol=0.0001,\n",
       "       validation_fraction=0.1, verbose=False, warm_start=False)"
      ]
     },
     "execution_count": 702,
     "metadata": {},
     "output_type": "execute_result"
    }
   ],
   "source": [
    "from sklearn.neural_network import MLPClassifier\n",
    "mlp = MLPClassifier(hidden_layer_sizes=(30,30,30))\n",
    "mlp.fit(X_train,y_train)"
   ]
  },
  {
   "cell_type": "code",
   "execution_count": 703,
   "metadata": {},
   "outputs": [],
   "source": [
    "predictions = mlp.predict(X_test)"
   ]
  },
  {
   "cell_type": "code",
   "execution_count": 704,
   "metadata": {},
   "outputs": [
    {
     "name": "stdout",
     "output_type": "stream",
     "text": [
      "              precision    recall  f1-score   support\n",
      "\n",
      "           0       0.00      0.00      0.00         4\n",
      "           1       0.62      0.48      0.54      1588\n",
      "           2       0.54      0.63      0.58      3810\n",
      "           3       0.52      0.57      0.54      2674\n",
      "           4       0.33      0.08      0.12       565\n",
      "           5       0.17      0.03      0.05        35\n",
      "           6       0.00      0.00      0.00         4\n",
      "           7       0.00      0.00      0.00         1\n",
      "\n",
      "   micro avg       0.54      0.54      0.54      8681\n",
      "   macro avg       0.27      0.22      0.23      8681\n",
      "weighted avg       0.53      0.54      0.53      8681\n",
      "\n"
     ]
    },
    {
     "name": "stderr",
     "output_type": "stream",
     "text": [
      "/Users/elliott/anaconda3/lib/python3.7/site-packages/sklearn/metrics/classification.py:1143: UndefinedMetricWarning: Precision and F-score are ill-defined and being set to 0.0 in labels with no predicted samples.\n",
      "  'precision', 'predicted', average, warn_for)\n"
     ]
    }
   ],
   "source": [
    "from sklearn.metrics import classification_report\n",
    "print(classification_report(y_test,predictions))"
   ]
  },
  {
   "cell_type": "code",
   "execution_count": 705,
   "metadata": {
    "scrolled": true
   },
   "outputs": [
    {
     "data": {
      "text/plain": [
       "0.5735514341665706"
      ]
     },
     "execution_count": 705,
     "metadata": {},
     "output_type": "execute_result"
    }
   ],
   "source": [
    "from sklearn.linear_model import LogisticRegression\n",
    "clf = LogisticRegression(random_state=42,solver='saga',multi_class='multinomial',max_iter=1000, penalty='l2')\n",
    "clf.fit(X_train,y_train)\n",
    "yhat = clf.predict(X_test)\n",
    "clf.score(X_test,y_test)"
   ]
  },
  {
   "cell_type": "code",
   "execution_count": 706,
   "metadata": {},
   "outputs": [
    {
     "data": {
      "text/plain": [
       "0.5735514341665706"
      ]
     },
     "execution_count": 706,
     "metadata": {},
     "output_type": "execute_result"
    }
   ],
   "source": [
    "from sklearn.metrics import jaccard_similarity_score\n",
    "jaccard_similarity_score(y_test, yhat)"
   ]
  },
  {
   "cell_type": "code",
   "execution_count": 707,
   "metadata": {},
   "outputs": [
    {
     "name": "stdout",
     "output_type": "stream",
     "text": [
      "              precision    recall  f1-score   support\n",
      "\n",
      "           0       0.00      0.00      0.00         4\n",
      "           1       0.64      0.54      0.58      1588\n",
      "           2       0.59      0.58      0.59      3810\n",
      "           3       0.53      0.72      0.61      2674\n",
      "           4       0.00      0.00      0.00       565\n",
      "           5       0.00      0.00      0.00        35\n",
      "           6       0.00      0.00      0.00         4\n",
      "           7       0.00      0.00      0.00         1\n",
      "\n",
      "   micro avg       0.57      0.57      0.57      8681\n",
      "   macro avg       0.22      0.23      0.22      8681\n",
      "weighted avg       0.54      0.57      0.55      8681\n",
      "\n"
     ]
    },
    {
     "name": "stderr",
     "output_type": "stream",
     "text": [
      "/Users/elliott/anaconda3/lib/python3.7/site-packages/sklearn/metrics/classification.py:1143: UndefinedMetricWarning: Precision and F-score are ill-defined and being set to 0.0 in labels with no predicted samples.\n",
      "  'precision', 'predicted', average, warn_for)\n"
     ]
    }
   ],
   "source": [
    "print (classification_report(y_test, yhat))"
   ]
  },
  {
   "cell_type": "code",
   "execution_count": 708,
   "metadata": {},
   "outputs": [
    {
     "data": {
      "text/plain": [
       "0.5644768856447688"
      ]
     },
     "execution_count": 708,
     "metadata": {},
     "output_type": "execute_result"
    }
   ],
   "source": [
    "from sklearn.linear_model import SGDClassifier\n",
    "clf = SGDClassifier(random_state=42,max_iter=1000,tol=1e-3)\n",
    "clf.fit(Z, dfTotal['Bins'])\n",
    "clf.score(Z,dfTotal['Bins'])"
   ]
  },
  {
   "cell_type": "code",
   "execution_count": 709,
   "metadata": {},
   "outputs": [
    {
     "name": "stderr",
     "output_type": "stream",
     "text": [
      "/Users/elliott/anaconda3/lib/python3.7/site-packages/sklearn/svm/base.py:244: ConvergenceWarning: Solver terminated early (max_iter=1000).  Consider pre-processing your data with StandardScaler or MinMaxScaler.\n",
      "  % self.max_iter, ConvergenceWarning)\n"
     ]
    },
    {
     "data": {
      "text/plain": [
       "0.3897125912408759"
      ]
     },
     "execution_count": 709,
     "metadata": {},
     "output_type": "execute_result"
    }
   ],
   "source": [
    "from sklearn.svm import SVC\n",
    "clf = SVC(random_state=42,max_iter=1000,tol=1e-3,gamma='auto')\n",
    "clf.fit(Z, dfTotal['Bins'])\n",
    "clf.score(Z,dfTotal['Bins'])"
   ]
  },
  {
   "cell_type": "code",
   "execution_count": null,
   "metadata": {},
   "outputs": [],
   "source": []
  }
 ],
 "metadata": {
  "kernelspec": {
   "display_name": "Python 3",
   "language": "python",
   "name": "python3"
  },
  "language_info": {
   "codemirror_mode": {
    "name": "ipython",
    "version": 3
   },
   "file_extension": ".py",
   "mimetype": "text/x-python",
   "name": "python",
   "nbconvert_exporter": "python",
   "pygments_lexer": "ipython3",
   "version": "3.7.3"
  }
 },
 "nbformat": 4,
 "nbformat_minor": 2
}
